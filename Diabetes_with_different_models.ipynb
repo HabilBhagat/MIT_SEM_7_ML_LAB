{
  "nbformat": 4,
  "nbformat_minor": 0,
  "metadata": {
    "colab": {
      "name": "Diabetes with different models.ipynb",
      "provenance": []
    },
    "kernelspec": {
      "name": "python3",
      "display_name": "Python 3"
    }
  },
  "cells": [
    {
      "cell_type": "code",
      "metadata": {
        "id": "UcjOWxsJaKaT",
        "colab_type": "code",
        "colab": {}
      },
      "source": [
        "import tensorflow as tf\n",
        "from tensorflow import keras\n",
        "import pandas as pd\n",
        "from tensorflow.keras import layers\n",
        "from sklearn import preprocessing\n",
        "import numpy as np\n",
        "from sklearn.model_selection import train_test_split"
      ],
      "execution_count": 1,
      "outputs": []
    },
    {
      "cell_type": "code",
      "metadata": {
        "id": "FZE-I_riaru3",
        "colab_type": "code",
        "colab": {
          "base_uri": "https://localhost:8080/",
          "height": 35
        },
        "outputId": "9372f639-f323-4de4-d715-7ab12cfd76d3"
      },
      "source": [
        "df = pd.read_csv(\"/content/diabetes.csv\")\n",
        "x = df.iloc[:,0:8]\n",
        "y = df.iloc[:,8:9]\n",
        "min_max_scaler = preprocessing.MinMaxScaler()\n",
        "Standard = preprocessing.StandardScaler()\n",
        "#x_scaled = min_max_scaler.fit_transform(x)\n",
        "x_= Standard.fit_transform(x)\n",
        "y.shape"
      ],
      "execution_count": 2,
      "outputs": [
        {
          "output_type": "execute_result",
          "data": {
            "text/plain": [
              "(768, 1)"
            ]
          },
          "metadata": {
            "tags": []
          },
          "execution_count": 2
        }
      ]
    },
    {
      "cell_type": "code",
      "metadata": {
        "id": "hfUVcSTlasW-",
        "colab_type": "code",
        "colab": {}
      },
      "source": [
        "X_train, X_test, y_train, y_test = train_test_split(x_, y, test_size=0.3)\n",
        "\n",
        "X_train = np.asarray(X_train)\n",
        "y_train = np.asarray(y_train)\n",
        "X_test = np.asarray(X_test)\n",
        "y_test = np.asarray(y_test)"
      ],
      "execution_count": 15,
      "outputs": []
    },
    {
      "cell_type": "code",
      "metadata": {
        "id": "tq-6bsU9ay25",
        "colab_type": "code",
        "colab": {}
      },
      "source": [
        "model = keras.Sequential()\n",
        "model.add(layers.Dense(100, activation=\"relu\", name=\"layer1\"))\n",
        "model.add(layers.Dense(50, activation=\"relu\", name=\"layer2\"))\n",
        "model.add(layers.Dense(20, activation=\"sigmoid\", name=\"layer3\"))\n",
        "model.add(layers.Dense(1, activation=\"sigmoid\", name=\"layer4\"))"
      ],
      "execution_count": 9,
      "outputs": []
    },
    {
      "cell_type": "code",
      "metadata": {
        "id": "9Danl3CAcO1E",
        "colab_type": "code",
        "colab": {}
      },
      "source": [
        ""
      ],
      "execution_count": null,
      "outputs": []
    },
    {
      "cell_type": "code",
      "metadata": {
        "colab_type": "code",
        "id": "pO0W1RUAcPIw",
        "colab": {}
      },
      "source": [
        "model_sgd = keras.Sequential()\n",
        "model_sgd.add(layers.Dense(100, activation=\"relu\", name=\"layer1\"))\n",
        "model_sgd.add(layers.Dense(50, activation=\"relu\", name=\"layer2\"))\n",
        "model_sgd.add(layers.Dense(20, activation=\"sigmoid\", name=\"layer3\"))\n",
        "model_sgd.add(layers.Dense(1, activation=\"sigmoid\", name=\"layer4\"))"
      ],
      "execution_count": 12,
      "outputs": []
    },
    {
      "cell_type": "code",
      "metadata": {
        "id": "sfcD2QWQbDNm",
        "colab_type": "code",
        "colab": {}
      },
      "source": [
        "model.compile(optimizer=\"adam\", loss=\"binary_crossentropy\", metrics=[\"accuracy\"])\n",
        "model_sgd.compile(optimizer=\"sgd\", loss=\"binary_crossentropy\", metrics=[\"accuracy\"])"
      ],
      "execution_count": 13,
      "outputs": []
    },
    {
      "cell_type": "code",
      "metadata": {
        "id": "TzmS-C-bbJhP",
        "colab_type": "code",
        "colab": {
          "base_uri": "https://localhost:8080/",
          "height": 1000
        },
        "outputId": "6919bf44-90a9-46c1-a61f-fb31f35839c8"
      },
      "source": [
        "model.fit(X_train,y_train, epochs=100, validation_data=(X_test,y_test))"
      ],
      "execution_count": 16,
      "outputs": [
        {
          "output_type": "stream",
          "text": [
            "Epoch 1/100\n",
            "17/17 [==============================] - 0s 9ms/step - loss: 0.3591 - accuracy: 0.8827 - val_loss: 0.2466 - val_accuracy: 0.9264\n",
            "Epoch 2/100\n",
            "17/17 [==============================] - 0s 2ms/step - loss: 0.3168 - accuracy: 0.8901 - val_loss: 0.2781 - val_accuracy: 0.9091\n",
            "Epoch 3/100\n",
            "17/17 [==============================] - 0s 3ms/step - loss: 0.2937 - accuracy: 0.8957 - val_loss: 0.2797 - val_accuracy: 0.8961\n",
            "Epoch 4/100\n",
            "17/17 [==============================] - 0s 3ms/step - loss: 0.2900 - accuracy: 0.8976 - val_loss: 0.2616 - val_accuracy: 0.9134\n",
            "Epoch 5/100\n",
            "17/17 [==============================] - 0s 3ms/step - loss: 0.2783 - accuracy: 0.9013 - val_loss: 0.2776 - val_accuracy: 0.9048\n",
            "Epoch 6/100\n",
            "17/17 [==============================] - 0s 3ms/step - loss: 0.2618 - accuracy: 0.9255 - val_loss: 0.2804 - val_accuracy: 0.8918\n",
            "Epoch 7/100\n",
            "17/17 [==============================] - 0s 3ms/step - loss: 0.2681 - accuracy: 0.9106 - val_loss: 0.2806 - val_accuracy: 0.9048\n",
            "Epoch 8/100\n",
            "17/17 [==============================] - 0s 3ms/step - loss: 0.2587 - accuracy: 0.9125 - val_loss: 0.2843 - val_accuracy: 0.9004\n",
            "Epoch 9/100\n",
            "17/17 [==============================] - 0s 3ms/step - loss: 0.2505 - accuracy: 0.9162 - val_loss: 0.2894 - val_accuracy: 0.9004\n",
            "Epoch 10/100\n",
            "17/17 [==============================] - 0s 3ms/step - loss: 0.2439 - accuracy: 0.9292 - val_loss: 0.2881 - val_accuracy: 0.8831\n",
            "Epoch 11/100\n",
            "17/17 [==============================] - 0s 3ms/step - loss: 0.2452 - accuracy: 0.9255 - val_loss: 0.3076 - val_accuracy: 0.8788\n",
            "Epoch 12/100\n",
            "17/17 [==============================] - 0s 3ms/step - loss: 0.2548 - accuracy: 0.9181 - val_loss: 0.2996 - val_accuracy: 0.8874\n",
            "Epoch 13/100\n",
            "17/17 [==============================] - 0s 3ms/step - loss: 0.2357 - accuracy: 0.9199 - val_loss: 0.3067 - val_accuracy: 0.8788\n",
            "Epoch 14/100\n",
            "17/17 [==============================] - 0s 3ms/step - loss: 0.2313 - accuracy: 0.9330 - val_loss: 0.3131 - val_accuracy: 0.8701\n",
            "Epoch 15/100\n",
            "17/17 [==============================] - 0s 3ms/step - loss: 0.2410 - accuracy: 0.9088 - val_loss: 0.3045 - val_accuracy: 0.8918\n",
            "Epoch 16/100\n",
            "17/17 [==============================] - 0s 3ms/step - loss: 0.2219 - accuracy: 0.9292 - val_loss: 0.2922 - val_accuracy: 0.8658\n",
            "Epoch 17/100\n",
            "17/17 [==============================] - 0s 3ms/step - loss: 0.2172 - accuracy: 0.9292 - val_loss: 0.3108 - val_accuracy: 0.8701\n",
            "Epoch 18/100\n",
            "17/17 [==============================] - 0s 3ms/step - loss: 0.2152 - accuracy: 0.9385 - val_loss: 0.3178 - val_accuracy: 0.8701\n",
            "Epoch 19/100\n",
            "17/17 [==============================] - 0s 3ms/step - loss: 0.2089 - accuracy: 0.9348 - val_loss: 0.3063 - val_accuracy: 0.8788\n",
            "Epoch 20/100\n",
            "17/17 [==============================] - 0s 3ms/step - loss: 0.2116 - accuracy: 0.9330 - val_loss: 0.3082 - val_accuracy: 0.8918\n",
            "Epoch 21/100\n",
            "17/17 [==============================] - 0s 3ms/step - loss: 0.2036 - accuracy: 0.9460 - val_loss: 0.3200 - val_accuracy: 0.8701\n",
            "Epoch 22/100\n",
            "17/17 [==============================] - 0s 3ms/step - loss: 0.2015 - accuracy: 0.9311 - val_loss: 0.3165 - val_accuracy: 0.8788\n",
            "Epoch 23/100\n",
            "17/17 [==============================] - 0s 3ms/step - loss: 0.2011 - accuracy: 0.9441 - val_loss: 0.3339 - val_accuracy: 0.8571\n",
            "Epoch 24/100\n",
            "17/17 [==============================] - 0s 3ms/step - loss: 0.1854 - accuracy: 0.9572 - val_loss: 0.3256 - val_accuracy: 0.8701\n",
            "Epoch 25/100\n",
            "17/17 [==============================] - 0s 3ms/step - loss: 0.1839 - accuracy: 0.9534 - val_loss: 0.3254 - val_accuracy: 0.8658\n",
            "Epoch 26/100\n",
            "17/17 [==============================] - 0s 3ms/step - loss: 0.1810 - accuracy: 0.9553 - val_loss: 0.3221 - val_accuracy: 0.8701\n",
            "Epoch 27/100\n",
            "17/17 [==============================] - 0s 3ms/step - loss: 0.1778 - accuracy: 0.9534 - val_loss: 0.3277 - val_accuracy: 0.8615\n",
            "Epoch 28/100\n",
            "17/17 [==============================] - 0s 3ms/step - loss: 0.1715 - accuracy: 0.9553 - val_loss: 0.3343 - val_accuracy: 0.8658\n",
            "Epoch 29/100\n",
            "17/17 [==============================] - 0s 3ms/step - loss: 0.1711 - accuracy: 0.9534 - val_loss: 0.3301 - val_accuracy: 0.8658\n",
            "Epoch 30/100\n",
            "17/17 [==============================] - 0s 3ms/step - loss: 0.1700 - accuracy: 0.9534 - val_loss: 0.3385 - val_accuracy: 0.8528\n",
            "Epoch 31/100\n",
            "17/17 [==============================] - 0s 3ms/step - loss: 0.1707 - accuracy: 0.9516 - val_loss: 0.3398 - val_accuracy: 0.8571\n",
            "Epoch 32/100\n",
            "17/17 [==============================] - 0s 3ms/step - loss: 0.1630 - accuracy: 0.9590 - val_loss: 0.3370 - val_accuracy: 0.8615\n",
            "Epoch 33/100\n",
            "17/17 [==============================] - 0s 3ms/step - loss: 0.1600 - accuracy: 0.9572 - val_loss: 0.3581 - val_accuracy: 0.8701\n",
            "Epoch 34/100\n",
            "17/17 [==============================] - 0s 3ms/step - loss: 0.1559 - accuracy: 0.9628 - val_loss: 0.3490 - val_accuracy: 0.8528\n",
            "Epoch 35/100\n",
            "17/17 [==============================] - 0s 3ms/step - loss: 0.1527 - accuracy: 0.9646 - val_loss: 0.3720 - val_accuracy: 0.8485\n",
            "Epoch 36/100\n",
            "17/17 [==============================] - 0s 3ms/step - loss: 0.1524 - accuracy: 0.9590 - val_loss: 0.3572 - val_accuracy: 0.8442\n",
            "Epoch 37/100\n",
            "17/17 [==============================] - 0s 3ms/step - loss: 0.1526 - accuracy: 0.9590 - val_loss: 0.3379 - val_accuracy: 0.8615\n",
            "Epoch 38/100\n",
            "17/17 [==============================] - 0s 3ms/step - loss: 0.1506 - accuracy: 0.9572 - val_loss: 0.3561 - val_accuracy: 0.8571\n",
            "Epoch 39/100\n",
            "17/17 [==============================] - 0s 3ms/step - loss: 0.1394 - accuracy: 0.9683 - val_loss: 0.3545 - val_accuracy: 0.8615\n",
            "Epoch 40/100\n",
            "17/17 [==============================] - 0s 3ms/step - loss: 0.1383 - accuracy: 0.9777 - val_loss: 0.3488 - val_accuracy: 0.8658\n",
            "Epoch 41/100\n",
            "17/17 [==============================] - 0s 3ms/step - loss: 0.1299 - accuracy: 0.9758 - val_loss: 0.3633 - val_accuracy: 0.8658\n",
            "Epoch 42/100\n",
            "17/17 [==============================] - 0s 3ms/step - loss: 0.1357 - accuracy: 0.9702 - val_loss: 0.3774 - val_accuracy: 0.8398\n",
            "Epoch 43/100\n",
            "17/17 [==============================] - 0s 3ms/step - loss: 0.1320 - accuracy: 0.9758 - val_loss: 0.3818 - val_accuracy: 0.8528\n",
            "Epoch 44/100\n",
            "17/17 [==============================] - 0s 3ms/step - loss: 0.1371 - accuracy: 0.9572 - val_loss: 0.3589 - val_accuracy: 0.8658\n",
            "Epoch 45/100\n",
            "17/17 [==============================] - 0s 3ms/step - loss: 0.1232 - accuracy: 0.9814 - val_loss: 0.3633 - val_accuracy: 0.8615\n",
            "Epoch 46/100\n",
            "17/17 [==============================] - 0s 3ms/step - loss: 0.1205 - accuracy: 0.9721 - val_loss: 0.3949 - val_accuracy: 0.8485\n",
            "Epoch 47/100\n",
            "17/17 [==============================] - 0s 3ms/step - loss: 0.1161 - accuracy: 0.9795 - val_loss: 0.3768 - val_accuracy: 0.8442\n",
            "Epoch 48/100\n",
            "17/17 [==============================] - 0s 3ms/step - loss: 0.1246 - accuracy: 0.9739 - val_loss: 0.4036 - val_accuracy: 0.8312\n",
            "Epoch 49/100\n",
            "17/17 [==============================] - 0s 3ms/step - loss: 0.1470 - accuracy: 0.9534 - val_loss: 0.4097 - val_accuracy: 0.8485\n",
            "Epoch 50/100\n",
            "17/17 [==============================] - 0s 3ms/step - loss: 0.1327 - accuracy: 0.9721 - val_loss: 0.3745 - val_accuracy: 0.8571\n",
            "Epoch 51/100\n",
            "17/17 [==============================] - 0s 3ms/step - loss: 0.1110 - accuracy: 0.9758 - val_loss: 0.3826 - val_accuracy: 0.8442\n",
            "Epoch 52/100\n",
            "17/17 [==============================] - 0s 3ms/step - loss: 0.1050 - accuracy: 0.9777 - val_loss: 0.4049 - val_accuracy: 0.8485\n",
            "Epoch 53/100\n",
            "17/17 [==============================] - 0s 3ms/step - loss: 0.1161 - accuracy: 0.9702 - val_loss: 0.3877 - val_accuracy: 0.8442\n",
            "Epoch 54/100\n",
            "17/17 [==============================] - 0s 3ms/step - loss: 0.1065 - accuracy: 0.9832 - val_loss: 0.3948 - val_accuracy: 0.8571\n",
            "Epoch 55/100\n",
            "17/17 [==============================] - 0s 3ms/step - loss: 0.1038 - accuracy: 0.9870 - val_loss: 0.4081 - val_accuracy: 0.8528\n",
            "Epoch 56/100\n",
            "17/17 [==============================] - 0s 3ms/step - loss: 0.0980 - accuracy: 0.9870 - val_loss: 0.3899 - val_accuracy: 0.8571\n",
            "Epoch 57/100\n",
            "17/17 [==============================] - 0s 3ms/step - loss: 0.0976 - accuracy: 0.9832 - val_loss: 0.4089 - val_accuracy: 0.8398\n",
            "Epoch 58/100\n",
            "17/17 [==============================] - 0s 3ms/step - loss: 0.0901 - accuracy: 0.9926 - val_loss: 0.4005 - val_accuracy: 0.8615\n",
            "Epoch 59/100\n",
            "17/17 [==============================] - 0s 3ms/step - loss: 0.0927 - accuracy: 0.9888 - val_loss: 0.3997 - val_accuracy: 0.8528\n",
            "Epoch 60/100\n",
            "17/17 [==============================] - 0s 3ms/step - loss: 0.0876 - accuracy: 0.9907 - val_loss: 0.4104 - val_accuracy: 0.8658\n",
            "Epoch 61/100\n",
            "17/17 [==============================] - 0s 3ms/step - loss: 0.0850 - accuracy: 0.9926 - val_loss: 0.4145 - val_accuracy: 0.8485\n",
            "Epoch 62/100\n",
            "17/17 [==============================] - 0s 3ms/step - loss: 0.0823 - accuracy: 0.9926 - val_loss: 0.4139 - val_accuracy: 0.8485\n",
            "Epoch 63/100\n",
            "17/17 [==============================] - 0s 3ms/step - loss: 0.0801 - accuracy: 0.9888 - val_loss: 0.4169 - val_accuracy: 0.8485\n",
            "Epoch 64/100\n",
            "17/17 [==============================] - 0s 3ms/step - loss: 0.0782 - accuracy: 0.9944 - val_loss: 0.4021 - val_accuracy: 0.8571\n",
            "Epoch 65/100\n",
            "17/17 [==============================] - 0s 3ms/step - loss: 0.0780 - accuracy: 0.9926 - val_loss: 0.4588 - val_accuracy: 0.8312\n",
            "Epoch 66/100\n",
            "17/17 [==============================] - 0s 3ms/step - loss: 0.0880 - accuracy: 0.9832 - val_loss: 0.4689 - val_accuracy: 0.8268\n",
            "Epoch 67/100\n",
            "17/17 [==============================] - 0s 3ms/step - loss: 0.0841 - accuracy: 0.9814 - val_loss: 0.4166 - val_accuracy: 0.8485\n",
            "Epoch 68/100\n",
            "17/17 [==============================] - 0s 3ms/step - loss: 0.0727 - accuracy: 0.9963 - val_loss: 0.4640 - val_accuracy: 0.8398\n",
            "Epoch 69/100\n",
            "17/17 [==============================] - 0s 3ms/step - loss: 0.0864 - accuracy: 0.9851 - val_loss: 0.4369 - val_accuracy: 0.8571\n",
            "Epoch 70/100\n",
            "17/17 [==============================] - 0s 3ms/step - loss: 0.0940 - accuracy: 0.9777 - val_loss: 0.4484 - val_accuracy: 0.8398\n",
            "Epoch 71/100\n",
            "17/17 [==============================] - 0s 3ms/step - loss: 0.0879 - accuracy: 0.9832 - val_loss: 0.4364 - val_accuracy: 0.8398\n",
            "Epoch 72/100\n",
            "17/17 [==============================] - 0s 3ms/step - loss: 0.0718 - accuracy: 0.9944 - val_loss: 0.4271 - val_accuracy: 0.8528\n",
            "Epoch 73/100\n",
            "17/17 [==============================] - 0s 3ms/step - loss: 0.0675 - accuracy: 0.9926 - val_loss: 0.4487 - val_accuracy: 0.8485\n",
            "Epoch 74/100\n",
            "17/17 [==============================] - 0s 3ms/step - loss: 0.0639 - accuracy: 0.9981 - val_loss: 0.4392 - val_accuracy: 0.8528\n",
            "Epoch 75/100\n",
            "17/17 [==============================] - 0s 3ms/step - loss: 0.0634 - accuracy: 0.9944 - val_loss: 0.4321 - val_accuracy: 0.8571\n",
            "Epoch 76/100\n",
            "17/17 [==============================] - 0s 3ms/step - loss: 0.0605 - accuracy: 0.9926 - val_loss: 0.4722 - val_accuracy: 0.8355\n",
            "Epoch 77/100\n",
            "17/17 [==============================] - 0s 3ms/step - loss: 0.0598 - accuracy: 0.9963 - val_loss: 0.4701 - val_accuracy: 0.8571\n",
            "Epoch 78/100\n",
            "17/17 [==============================] - 0s 3ms/step - loss: 0.0597 - accuracy: 0.9963 - val_loss: 0.4624 - val_accuracy: 0.8442\n",
            "Epoch 79/100\n",
            "17/17 [==============================] - 0s 3ms/step - loss: 0.0582 - accuracy: 0.9963 - val_loss: 0.4511 - val_accuracy: 0.8485\n",
            "Epoch 80/100\n",
            "17/17 [==============================] - 0s 3ms/step - loss: 0.0574 - accuracy: 0.9944 - val_loss: 0.4475 - val_accuracy: 0.8528\n",
            "Epoch 81/100\n",
            "17/17 [==============================] - 0s 3ms/step - loss: 0.0587 - accuracy: 0.9981 - val_loss: 0.4469 - val_accuracy: 0.8442\n",
            "Epoch 82/100\n",
            "17/17 [==============================] - 0s 3ms/step - loss: 0.0577 - accuracy: 0.9963 - val_loss: 0.4596 - val_accuracy: 0.8442\n",
            "Epoch 83/100\n",
            "17/17 [==============================] - 0s 3ms/step - loss: 0.0538 - accuracy: 0.9981 - val_loss: 0.4645 - val_accuracy: 0.8398\n",
            "Epoch 84/100\n",
            "17/17 [==============================] - 0s 3ms/step - loss: 0.0547 - accuracy: 0.9963 - val_loss: 0.4623 - val_accuracy: 0.8485\n",
            "Epoch 85/100\n",
            "17/17 [==============================] - 0s 3ms/step - loss: 0.0534 - accuracy: 0.9963 - val_loss: 0.4860 - val_accuracy: 0.8485\n",
            "Epoch 86/100\n",
            "17/17 [==============================] - 0s 3ms/step - loss: 0.0535 - accuracy: 0.9963 - val_loss: 0.4595 - val_accuracy: 0.8485\n",
            "Epoch 87/100\n",
            "17/17 [==============================] - 0s 3ms/step - loss: 0.0518 - accuracy: 0.9981 - val_loss: 0.4723 - val_accuracy: 0.8398\n",
            "Epoch 88/100\n",
            "17/17 [==============================] - 0s 3ms/step - loss: 0.0542 - accuracy: 0.9907 - val_loss: 0.4788 - val_accuracy: 0.8442\n",
            "Epoch 89/100\n",
            "17/17 [==============================] - 0s 3ms/step - loss: 0.0590 - accuracy: 0.9944 - val_loss: 0.4658 - val_accuracy: 0.8571\n",
            "Epoch 90/100\n",
            "17/17 [==============================] - 0s 3ms/step - loss: 0.0599 - accuracy: 0.9926 - val_loss: 0.5292 - val_accuracy: 0.8485\n",
            "Epoch 91/100\n",
            "17/17 [==============================] - 0s 3ms/step - loss: 0.0625 - accuracy: 0.9907 - val_loss: 0.4967 - val_accuracy: 0.8442\n",
            "Epoch 92/100\n",
            "17/17 [==============================] - 0s 3ms/step - loss: 0.0603 - accuracy: 0.9944 - val_loss: 0.5331 - val_accuracy: 0.8398\n",
            "Epoch 93/100\n",
            "17/17 [==============================] - 0s 3ms/step - loss: 0.0708 - accuracy: 0.9795 - val_loss: 0.5134 - val_accuracy: 0.8528\n",
            "Epoch 94/100\n",
            "17/17 [==============================] - 0s 3ms/step - loss: 0.0559 - accuracy: 0.9907 - val_loss: 0.5019 - val_accuracy: 0.8485\n",
            "Epoch 95/100\n",
            "17/17 [==============================] - 0s 3ms/step - loss: 0.0503 - accuracy: 0.9981 - val_loss: 0.4901 - val_accuracy: 0.8485\n",
            "Epoch 96/100\n",
            "17/17 [==============================] - 0s 3ms/step - loss: 0.0494 - accuracy: 0.9944 - val_loss: 0.4859 - val_accuracy: 0.8571\n",
            "Epoch 97/100\n",
            "17/17 [==============================] - 0s 3ms/step - loss: 0.0571 - accuracy: 0.9926 - val_loss: 0.4966 - val_accuracy: 0.8485\n",
            "Epoch 98/100\n",
            "17/17 [==============================] - 0s 3ms/step - loss: 0.0664 - accuracy: 0.9907 - val_loss: 0.5222 - val_accuracy: 0.8355\n",
            "Epoch 99/100\n",
            "17/17 [==============================] - 0s 3ms/step - loss: 0.0584 - accuracy: 0.9907 - val_loss: 0.5065 - val_accuracy: 0.8442\n",
            "Epoch 100/100\n",
            "17/17 [==============================] - 0s 3ms/step - loss: 0.0518 - accuracy: 0.9944 - val_loss: 0.5329 - val_accuracy: 0.8485\n"
          ],
          "name": "stdout"
        },
        {
          "output_type": "execute_result",
          "data": {
            "text/plain": [
              "<tensorflow.python.keras.callbacks.History at 0x7f0d99b37f28>"
            ]
          },
          "metadata": {
            "tags": []
          },
          "execution_count": 16
        }
      ]
    },
    {
      "cell_type": "code",
      "metadata": {
        "id": "R-hRMwQVbMaI",
        "colab_type": "code",
        "colab": {
          "base_uri": "https://localhost:8080/",
          "height": 53
        },
        "outputId": "575d7cb2-0681-4c34-8a23-37509606a4ed"
      },
      "source": [
        "model.evaluate(X_test,y_test,)"
      ],
      "execution_count": 8,
      "outputs": [
        {
          "output_type": "stream",
          "text": [
            "5/5 [==============================] - 0s 2ms/step - loss: 1.1180 - accuracy: 0.6883\n"
          ],
          "name": "stdout"
        },
        {
          "output_type": "execute_result",
          "data": {
            "text/plain": [
              "[1.1180270910263062, 0.6883116960525513]"
            ]
          },
          "metadata": {
            "tags": []
          },
          "execution_count": 8
        }
      ]
    },
    {
      "cell_type": "code",
      "metadata": {
        "id": "AV_klYyCbRxq",
        "colab_type": "code",
        "colab": {
          "base_uri": "https://localhost:8080/",
          "height": 1000
        },
        "outputId": "22b56959-2dba-46e3-b4dd-d60763cafc4b"
      },
      "source": [
        "model_sgd.fit(X_train,y_train, epochs=100, validation_data=(X_test,y_test))"
      ],
      "execution_count": 17,
      "outputs": [
        {
          "output_type": "stream",
          "text": [
            "Epoch 1/100\n",
            "17/17 [==============================] - 0s 4ms/step - loss: 0.4761 - accuracy: 0.7709 - val_loss: 0.4617 - val_accuracy: 0.7965\n",
            "Epoch 2/100\n",
            "17/17 [==============================] - 0s 3ms/step - loss: 0.4756 - accuracy: 0.7691 - val_loss: 0.4615 - val_accuracy: 0.7965\n",
            "Epoch 3/100\n",
            "17/17 [==============================] - 0s 3ms/step - loss: 0.4752 - accuracy: 0.7709 - val_loss: 0.4613 - val_accuracy: 0.8009\n",
            "Epoch 4/100\n",
            "17/17 [==============================] - 0s 2ms/step - loss: 0.4747 - accuracy: 0.7709 - val_loss: 0.4610 - val_accuracy: 0.7965\n",
            "Epoch 5/100\n",
            "17/17 [==============================] - 0s 2ms/step - loss: 0.4741 - accuracy: 0.7691 - val_loss: 0.4608 - val_accuracy: 0.7965\n",
            "Epoch 6/100\n",
            "17/17 [==============================] - 0s 3ms/step - loss: 0.4736 - accuracy: 0.7691 - val_loss: 0.4606 - val_accuracy: 0.8009\n",
            "Epoch 7/100\n",
            "17/17 [==============================] - 0s 3ms/step - loss: 0.4733 - accuracy: 0.7709 - val_loss: 0.4604 - val_accuracy: 0.8009\n",
            "Epoch 8/100\n",
            "17/17 [==============================] - 0s 2ms/step - loss: 0.4729 - accuracy: 0.7709 - val_loss: 0.4602 - val_accuracy: 0.8009\n",
            "Epoch 9/100\n",
            "17/17 [==============================] - 0s 2ms/step - loss: 0.4724 - accuracy: 0.7728 - val_loss: 0.4600 - val_accuracy: 0.8009\n",
            "Epoch 10/100\n",
            "17/17 [==============================] - 0s 2ms/step - loss: 0.4722 - accuracy: 0.7709 - val_loss: 0.4598 - val_accuracy: 0.8052\n",
            "Epoch 11/100\n",
            "17/17 [==============================] - 0s 2ms/step - loss: 0.4717 - accuracy: 0.7709 - val_loss: 0.4596 - val_accuracy: 0.8052\n",
            "Epoch 12/100\n",
            "17/17 [==============================] - 0s 2ms/step - loss: 0.4712 - accuracy: 0.7691 - val_loss: 0.4595 - val_accuracy: 0.8052\n",
            "Epoch 13/100\n",
            "17/17 [==============================] - 0s 2ms/step - loss: 0.4710 - accuracy: 0.7709 - val_loss: 0.4593 - val_accuracy: 0.8052\n",
            "Epoch 14/100\n",
            "17/17 [==============================] - 0s 2ms/step - loss: 0.4706 - accuracy: 0.7709 - val_loss: 0.4590 - val_accuracy: 0.8052\n",
            "Epoch 15/100\n",
            "17/17 [==============================] - 0s 2ms/step - loss: 0.4701 - accuracy: 0.7691 - val_loss: 0.4589 - val_accuracy: 0.8052\n",
            "Epoch 16/100\n",
            "17/17 [==============================] - 0s 3ms/step - loss: 0.4697 - accuracy: 0.7691 - val_loss: 0.4587 - val_accuracy: 0.8052\n",
            "Epoch 17/100\n",
            "17/17 [==============================] - 0s 3ms/step - loss: 0.4695 - accuracy: 0.7709 - val_loss: 0.4585 - val_accuracy: 0.8052\n",
            "Epoch 18/100\n",
            "17/17 [==============================] - 0s 2ms/step - loss: 0.4692 - accuracy: 0.7728 - val_loss: 0.4583 - val_accuracy: 0.8052\n",
            "Epoch 19/100\n",
            "17/17 [==============================] - 0s 2ms/step - loss: 0.4688 - accuracy: 0.7709 - val_loss: 0.4582 - val_accuracy: 0.8052\n",
            "Epoch 20/100\n",
            "17/17 [==============================] - 0s 3ms/step - loss: 0.4686 - accuracy: 0.7728 - val_loss: 0.4580 - val_accuracy: 0.8052\n",
            "Epoch 21/100\n",
            "17/17 [==============================] - 0s 3ms/step - loss: 0.4682 - accuracy: 0.7728 - val_loss: 0.4579 - val_accuracy: 0.8052\n",
            "Epoch 22/100\n",
            "17/17 [==============================] - 0s 2ms/step - loss: 0.4679 - accuracy: 0.7728 - val_loss: 0.4578 - val_accuracy: 0.8095\n",
            "Epoch 23/100\n",
            "17/17 [==============================] - 0s 3ms/step - loss: 0.4675 - accuracy: 0.7709 - val_loss: 0.4576 - val_accuracy: 0.8095\n",
            "Epoch 24/100\n",
            "17/17 [==============================] - 0s 3ms/step - loss: 0.4673 - accuracy: 0.7709 - val_loss: 0.4575 - val_accuracy: 0.8095\n",
            "Epoch 25/100\n",
            "17/17 [==============================] - 0s 2ms/step - loss: 0.4669 - accuracy: 0.7709 - val_loss: 0.4573 - val_accuracy: 0.8095\n",
            "Epoch 26/100\n",
            "17/17 [==============================] - 0s 2ms/step - loss: 0.4666 - accuracy: 0.7728 - val_loss: 0.4572 - val_accuracy: 0.8095\n",
            "Epoch 27/100\n",
            "17/17 [==============================] - 0s 2ms/step - loss: 0.4663 - accuracy: 0.7728 - val_loss: 0.4571 - val_accuracy: 0.8095\n",
            "Epoch 28/100\n",
            "17/17 [==============================] - 0s 2ms/step - loss: 0.4662 - accuracy: 0.7728 - val_loss: 0.4570 - val_accuracy: 0.8095\n",
            "Epoch 29/100\n",
            "17/17 [==============================] - 0s 3ms/step - loss: 0.4659 - accuracy: 0.7765 - val_loss: 0.4569 - val_accuracy: 0.8095\n",
            "Epoch 30/100\n",
            "17/17 [==============================] - 0s 3ms/step - loss: 0.4657 - accuracy: 0.7747 - val_loss: 0.4568 - val_accuracy: 0.8095\n",
            "Epoch 31/100\n",
            "17/17 [==============================] - 0s 3ms/step - loss: 0.4653 - accuracy: 0.7784 - val_loss: 0.4567 - val_accuracy: 0.8095\n",
            "Epoch 32/100\n",
            "17/17 [==============================] - 0s 3ms/step - loss: 0.4649 - accuracy: 0.7747 - val_loss: 0.4566 - val_accuracy: 0.8095\n",
            "Epoch 33/100\n",
            "17/17 [==============================] - 0s 3ms/step - loss: 0.4648 - accuracy: 0.7765 - val_loss: 0.4565 - val_accuracy: 0.8095\n",
            "Epoch 34/100\n",
            "17/17 [==============================] - 0s 3ms/step - loss: 0.4645 - accuracy: 0.7765 - val_loss: 0.4564 - val_accuracy: 0.8095\n",
            "Epoch 35/100\n",
            "17/17 [==============================] - 0s 3ms/step - loss: 0.4643 - accuracy: 0.7765 - val_loss: 0.4562 - val_accuracy: 0.8095\n",
            "Epoch 36/100\n",
            "17/17 [==============================] - 0s 3ms/step - loss: 0.4642 - accuracy: 0.7747 - val_loss: 0.4561 - val_accuracy: 0.8095\n",
            "Epoch 37/100\n",
            "17/17 [==============================] - 0s 2ms/step - loss: 0.4639 - accuracy: 0.7784 - val_loss: 0.4560 - val_accuracy: 0.8052\n",
            "Epoch 38/100\n",
            "17/17 [==============================] - 0s 2ms/step - loss: 0.4635 - accuracy: 0.7765 - val_loss: 0.4560 - val_accuracy: 0.8052\n",
            "Epoch 39/100\n",
            "17/17 [==============================] - 0s 2ms/step - loss: 0.4634 - accuracy: 0.7765 - val_loss: 0.4559 - val_accuracy: 0.8052\n",
            "Epoch 40/100\n",
            "17/17 [==============================] - 0s 3ms/step - loss: 0.4631 - accuracy: 0.7765 - val_loss: 0.4558 - val_accuracy: 0.8052\n",
            "Epoch 41/100\n",
            "17/17 [==============================] - 0s 2ms/step - loss: 0.4629 - accuracy: 0.7803 - val_loss: 0.4557 - val_accuracy: 0.8052\n",
            "Epoch 42/100\n",
            "17/17 [==============================] - 0s 2ms/step - loss: 0.4626 - accuracy: 0.7803 - val_loss: 0.4556 - val_accuracy: 0.8052\n",
            "Epoch 43/100\n",
            "17/17 [==============================] - 0s 3ms/step - loss: 0.4625 - accuracy: 0.7784 - val_loss: 0.4555 - val_accuracy: 0.8095\n",
            "Epoch 44/100\n",
            "17/17 [==============================] - 0s 2ms/step - loss: 0.4624 - accuracy: 0.7803 - val_loss: 0.4554 - val_accuracy: 0.8095\n",
            "Epoch 45/100\n",
            "17/17 [==============================] - 0s 3ms/step - loss: 0.4620 - accuracy: 0.7803 - val_loss: 0.4554 - val_accuracy: 0.8095\n",
            "Epoch 46/100\n",
            "17/17 [==============================] - 0s 2ms/step - loss: 0.4618 - accuracy: 0.7803 - val_loss: 0.4553 - val_accuracy: 0.8095\n",
            "Epoch 47/100\n",
            "17/17 [==============================] - 0s 2ms/step - loss: 0.4617 - accuracy: 0.7784 - val_loss: 0.4553 - val_accuracy: 0.8095\n",
            "Epoch 48/100\n",
            "17/17 [==============================] - 0s 2ms/step - loss: 0.4614 - accuracy: 0.7821 - val_loss: 0.4552 - val_accuracy: 0.8095\n",
            "Epoch 49/100\n",
            "17/17 [==============================] - 0s 2ms/step - loss: 0.4614 - accuracy: 0.7821 - val_loss: 0.4551 - val_accuracy: 0.8095\n",
            "Epoch 50/100\n",
            "17/17 [==============================] - 0s 2ms/step - loss: 0.4610 - accuracy: 0.7803 - val_loss: 0.4550 - val_accuracy: 0.8095\n",
            "Epoch 51/100\n",
            "17/17 [==============================] - 0s 3ms/step - loss: 0.4608 - accuracy: 0.7840 - val_loss: 0.4550 - val_accuracy: 0.8095\n",
            "Epoch 52/100\n",
            "17/17 [==============================] - 0s 2ms/step - loss: 0.4606 - accuracy: 0.7821 - val_loss: 0.4549 - val_accuracy: 0.8095\n",
            "Epoch 53/100\n",
            "17/17 [==============================] - 0s 2ms/step - loss: 0.4605 - accuracy: 0.7803 - val_loss: 0.4549 - val_accuracy: 0.8139\n",
            "Epoch 54/100\n",
            "17/17 [==============================] - 0s 2ms/step - loss: 0.4603 - accuracy: 0.7803 - val_loss: 0.4549 - val_accuracy: 0.8139\n",
            "Epoch 55/100\n",
            "17/17 [==============================] - 0s 2ms/step - loss: 0.4600 - accuracy: 0.7821 - val_loss: 0.4548 - val_accuracy: 0.8139\n",
            "Epoch 56/100\n",
            "17/17 [==============================] - 0s 2ms/step - loss: 0.4600 - accuracy: 0.7803 - val_loss: 0.4547 - val_accuracy: 0.8139\n",
            "Epoch 57/100\n",
            "17/17 [==============================] - 0s 2ms/step - loss: 0.4597 - accuracy: 0.7821 - val_loss: 0.4547 - val_accuracy: 0.8139\n",
            "Epoch 58/100\n",
            "17/17 [==============================] - 0s 2ms/step - loss: 0.4594 - accuracy: 0.7803 - val_loss: 0.4546 - val_accuracy: 0.8139\n",
            "Epoch 59/100\n",
            "17/17 [==============================] - 0s 2ms/step - loss: 0.4593 - accuracy: 0.7840 - val_loss: 0.4546 - val_accuracy: 0.8182\n",
            "Epoch 60/100\n",
            "17/17 [==============================] - 0s 2ms/step - loss: 0.4592 - accuracy: 0.7821 - val_loss: 0.4546 - val_accuracy: 0.8182\n",
            "Epoch 61/100\n",
            "17/17 [==============================] - 0s 2ms/step - loss: 0.4591 - accuracy: 0.7803 - val_loss: 0.4545 - val_accuracy: 0.8182\n",
            "Epoch 62/100\n",
            "17/17 [==============================] - 0s 2ms/step - loss: 0.4587 - accuracy: 0.7840 - val_loss: 0.4545 - val_accuracy: 0.8182\n",
            "Epoch 63/100\n",
            "17/17 [==============================] - 0s 2ms/step - loss: 0.4586 - accuracy: 0.7840 - val_loss: 0.4544 - val_accuracy: 0.8182\n",
            "Epoch 64/100\n",
            "17/17 [==============================] - 0s 3ms/step - loss: 0.4584 - accuracy: 0.7840 - val_loss: 0.4544 - val_accuracy: 0.8182\n",
            "Epoch 65/100\n",
            "17/17 [==============================] - 0s 3ms/step - loss: 0.4582 - accuracy: 0.7821 - val_loss: 0.4543 - val_accuracy: 0.8182\n",
            "Epoch 66/100\n",
            "17/17 [==============================] - 0s 3ms/step - loss: 0.4582 - accuracy: 0.7821 - val_loss: 0.4543 - val_accuracy: 0.8182\n",
            "Epoch 67/100\n",
            "17/17 [==============================] - 0s 2ms/step - loss: 0.4578 - accuracy: 0.7840 - val_loss: 0.4543 - val_accuracy: 0.8182\n",
            "Epoch 68/100\n",
            "17/17 [==============================] - 0s 2ms/step - loss: 0.4577 - accuracy: 0.7858 - val_loss: 0.4542 - val_accuracy: 0.8182\n",
            "Epoch 69/100\n",
            "17/17 [==============================] - 0s 2ms/step - loss: 0.4576 - accuracy: 0.7840 - val_loss: 0.4542 - val_accuracy: 0.8182\n",
            "Epoch 70/100\n",
            "17/17 [==============================] - 0s 2ms/step - loss: 0.4575 - accuracy: 0.7840 - val_loss: 0.4542 - val_accuracy: 0.8182\n",
            "Epoch 71/100\n",
            "17/17 [==============================] - 0s 2ms/step - loss: 0.4571 - accuracy: 0.7858 - val_loss: 0.4541 - val_accuracy: 0.8182\n",
            "Epoch 72/100\n",
            "17/17 [==============================] - 0s 2ms/step - loss: 0.4572 - accuracy: 0.7821 - val_loss: 0.4541 - val_accuracy: 0.8182\n",
            "Epoch 73/100\n",
            "17/17 [==============================] - 0s 3ms/step - loss: 0.4570 - accuracy: 0.7803 - val_loss: 0.4541 - val_accuracy: 0.8182\n",
            "Epoch 74/100\n",
            "17/17 [==============================] - 0s 2ms/step - loss: 0.4568 - accuracy: 0.7821 - val_loss: 0.4541 - val_accuracy: 0.8182\n",
            "Epoch 75/100\n",
            "17/17 [==============================] - 0s 2ms/step - loss: 0.4566 - accuracy: 0.7840 - val_loss: 0.4540 - val_accuracy: 0.8182\n",
            "Epoch 76/100\n",
            "17/17 [==============================] - 0s 2ms/step - loss: 0.4565 - accuracy: 0.7840 - val_loss: 0.4540 - val_accuracy: 0.8182\n",
            "Epoch 77/100\n",
            "17/17 [==============================] - 0s 2ms/step - loss: 0.4564 - accuracy: 0.7840 - val_loss: 0.4540 - val_accuracy: 0.8182\n",
            "Epoch 78/100\n",
            "17/17 [==============================] - 0s 3ms/step - loss: 0.4561 - accuracy: 0.7858 - val_loss: 0.4539 - val_accuracy: 0.8182\n",
            "Epoch 79/100\n",
            "17/17 [==============================] - 0s 2ms/step - loss: 0.4559 - accuracy: 0.7821 - val_loss: 0.4539 - val_accuracy: 0.8182\n",
            "Epoch 80/100\n",
            "17/17 [==============================] - 0s 2ms/step - loss: 0.4557 - accuracy: 0.7840 - val_loss: 0.4538 - val_accuracy: 0.8182\n",
            "Epoch 81/100\n",
            "17/17 [==============================] - 0s 3ms/step - loss: 0.4556 - accuracy: 0.7877 - val_loss: 0.4538 - val_accuracy: 0.8182\n",
            "Epoch 82/100\n",
            "17/17 [==============================] - 0s 3ms/step - loss: 0.4554 - accuracy: 0.7765 - val_loss: 0.4537 - val_accuracy: 0.8182\n",
            "Epoch 83/100\n",
            "17/17 [==============================] - 0s 3ms/step - loss: 0.4553 - accuracy: 0.7858 - val_loss: 0.4537 - val_accuracy: 0.8182\n",
            "Epoch 84/100\n",
            "17/17 [==============================] - 0s 3ms/step - loss: 0.4551 - accuracy: 0.7840 - val_loss: 0.4537 - val_accuracy: 0.8182\n",
            "Epoch 85/100\n",
            "17/17 [==============================] - 0s 3ms/step - loss: 0.4551 - accuracy: 0.7821 - val_loss: 0.4536 - val_accuracy: 0.8182\n",
            "Epoch 86/100\n",
            "17/17 [==============================] - 0s 2ms/step - loss: 0.4549 - accuracy: 0.7765 - val_loss: 0.4536 - val_accuracy: 0.8182\n",
            "Epoch 87/100\n",
            "17/17 [==============================] - 0s 3ms/step - loss: 0.4547 - accuracy: 0.7803 - val_loss: 0.4536 - val_accuracy: 0.8182\n",
            "Epoch 88/100\n",
            "17/17 [==============================] - 0s 2ms/step - loss: 0.4546 - accuracy: 0.7840 - val_loss: 0.4536 - val_accuracy: 0.8182\n",
            "Epoch 89/100\n",
            "17/17 [==============================] - 0s 3ms/step - loss: 0.4544 - accuracy: 0.7858 - val_loss: 0.4536 - val_accuracy: 0.8139\n",
            "Epoch 90/100\n",
            "17/17 [==============================] - 0s 3ms/step - loss: 0.4542 - accuracy: 0.7840 - val_loss: 0.4535 - val_accuracy: 0.8139\n",
            "Epoch 91/100\n",
            "17/17 [==============================] - 0s 2ms/step - loss: 0.4542 - accuracy: 0.7803 - val_loss: 0.4535 - val_accuracy: 0.8139\n",
            "Epoch 92/100\n",
            "17/17 [==============================] - 0s 2ms/step - loss: 0.4540 - accuracy: 0.7840 - val_loss: 0.4534 - val_accuracy: 0.8139\n",
            "Epoch 93/100\n",
            "17/17 [==============================] - 0s 3ms/step - loss: 0.4538 - accuracy: 0.7821 - val_loss: 0.4534 - val_accuracy: 0.8139\n",
            "Epoch 94/100\n",
            "17/17 [==============================] - 0s 3ms/step - loss: 0.4537 - accuracy: 0.7821 - val_loss: 0.4534 - val_accuracy: 0.8139\n",
            "Epoch 95/100\n",
            "17/17 [==============================] - 0s 3ms/step - loss: 0.4535 - accuracy: 0.7803 - val_loss: 0.4533 - val_accuracy: 0.8139\n",
            "Epoch 96/100\n",
            "17/17 [==============================] - 0s 3ms/step - loss: 0.4533 - accuracy: 0.7840 - val_loss: 0.4532 - val_accuracy: 0.8139\n",
            "Epoch 97/100\n",
            "17/17 [==============================] - 0s 3ms/step - loss: 0.4532 - accuracy: 0.7821 - val_loss: 0.4532 - val_accuracy: 0.8095\n",
            "Epoch 98/100\n",
            "17/17 [==============================] - 0s 2ms/step - loss: 0.4530 - accuracy: 0.7821 - val_loss: 0.4532 - val_accuracy: 0.8095\n",
            "Epoch 99/100\n",
            "17/17 [==============================] - 0s 2ms/step - loss: 0.4529 - accuracy: 0.7840 - val_loss: 0.4531 - val_accuracy: 0.8139\n",
            "Epoch 100/100\n",
            "17/17 [==============================] - 0s 3ms/step - loss: 0.4527 - accuracy: 0.7840 - val_loss: 0.4531 - val_accuracy: 0.8095\n"
          ],
          "name": "stdout"
        },
        {
          "output_type": "execute_result",
          "data": {
            "text/plain": [
              "<tensorflow.python.keras.callbacks.History at 0x7f0d99a0af60>"
            ]
          },
          "metadata": {
            "tags": []
          },
          "execution_count": 17
        }
      ]
    },
    {
      "cell_type": "code",
      "metadata": {
        "id": "wHtBz4bRcdyw",
        "colab_type": "code",
        "colab": {}
      },
      "source": [
        ""
      ],
      "execution_count": null,
      "outputs": []
    }
  ]
}